{
 "cells": [
  {
   "cell_type": "markdown",
   "id": "90b671f6",
   "metadata": {},
   "source": [
    "### Importando as bibliotecas necessarias para Iniciar na Analise de dados , utilizando Pandas."
   ]
  },
  {
   "cell_type": "code",
   "execution_count": 1,
   "id": "3268ac87",
   "metadata": {},
   "outputs": [],
   "source": [
    "import numpy as np"
   ]
  },
  {
   "cell_type": "code",
   "execution_count": 16,
   "id": "9fb0924b",
   "metadata": {},
   "outputs": [],
   "source": [
    "import pandas as pd"
   ]
  },
  {
   "cell_type": "markdown",
   "id": "d358d37c",
   "metadata": {},
   "source": [
    "###  Lendo o arquivo CSV contido no C:/"
   ]
  },
  {
   "cell_type": "code",
   "execution_count": 40,
   "id": "8b6b8a6a",
   "metadata": {},
   "outputs": [],
   "source": [
    "df = pd.read_csv('./carros.csv')\n"
   ]
  },
  {
   "cell_type": "markdown",
   "id": "de9cdeff",
   "metadata": {},
   "source": [
    "###  Mostrando quantidade de linhas e colunas"
   ]
  },
  {
   "cell_type": "code",
   "execution_count": 41,
   "id": "f48a2be4",
   "metadata": {},
   "outputs": [
    {
     "data": {
      "text/plain": [
       "(93, 27)"
      ]
     },
     "execution_count": 41,
     "metadata": {},
     "output_type": "execute_result"
    }
   ],
   "source": [
    "df.shape"
   ]
  },
  {
   "cell_type": "markdown",
   "id": "24dbf39d",
   "metadata": {},
   "source": [
    "### Mostrando o tipo de dados de cada coluna"
   ]
  },
  {
   "cell_type": "code",
   "execution_count": 42,
   "id": "38b3c74d",
   "metadata": {},
   "outputs": [
    {
     "data": {
      "text/plain": [
       "fabricante                      object\n",
       "modelo                          object\n",
       "tipo                            object\n",
       "preco_min                      float64\n",
       "preco                          float64\n",
       "preco_max                      float64\n",
       "mpg_cidade                     float64\n",
       "mpg_rodovia                    float64\n",
       "airbags                         object\n",
       "trem_forca                      object\n",
       "cilindros                      float64\n",
       "tamanho_motor                  float64\n",
       "horsepower                     float64\n",
       "rpm                            float64\n",
       "revolucoes_milha               float64\n",
       "transmissao_manual              object\n",
       "capacidade_tanque              float64\n",
       "passageiros                    float64\n",
       "comprimento_in                 float64\n",
       "distancia_eixo                 float64\n",
       "largura_in                     float64\n",
       "espaco_inversao_marcha_ft      float64\n",
       "tamanho_assento_traseiro_in    float64\n",
       "porta_mala_ft3                 float64\n",
       "peso_lb                        float64\n",
       "origem                          object\n",
       "fabricante_modelo               object\n",
       "dtype: object"
      ]
     },
     "execution_count": 42,
     "metadata": {},
     "output_type": "execute_result"
    }
   ],
   "source": [
    "df.dtypes"
   ]
  },
  {
   "cell_type": "markdown",
   "id": "3354a574",
   "metadata": {},
   "source": [
    "### Quantidade de colunas para cada um dos tipos de dados."
   ]
  },
  {
   "cell_type": "code",
   "execution_count": 43,
   "id": "421737a8",
   "metadata": {},
   "outputs": [
    {
     "data": {
      "text/plain": [
       "float64    19\n",
       "object      8\n",
       "dtype: int64"
      ]
     },
     "execution_count": 43,
     "metadata": {},
     "output_type": "execute_result"
    }
   ],
   "source": [
    "df.dtypes.value_counts()"
   ]
  },
  {
   "cell_type": "markdown",
   "id": "34a73ec2",
   "metadata": {},
   "source": [
    "# Sumario Estatistico"
   ]
  },
  {
   "cell_type": "code",
   "execution_count": 45,
   "id": "41e5f6c0",
   "metadata": {},
   "outputs": [
    {
     "data": {
      "text/html": [
       "<div>\n",
       "<style scoped>\n",
       "    .dataframe tbody tr th:only-of-type {\n",
       "        vertical-align: middle;\n",
       "    }\n",
       "\n",
       "    .dataframe tbody tr th {\n",
       "        vertical-align: top;\n",
       "    }\n",
       "\n",
       "    .dataframe thead th {\n",
       "        text-align: right;\n",
       "    }\n",
       "</style>\n",
       "<table border=\"1\" class=\"dataframe\">\n",
       "  <thead>\n",
       "    <tr style=\"text-align: right;\">\n",
       "      <th></th>\n",
       "      <th>preco_min</th>\n",
       "      <th>preco</th>\n",
       "      <th>preco_max</th>\n",
       "      <th>mpg_cidade</th>\n",
       "      <th>mpg_rodovia</th>\n",
       "      <th>cilindros</th>\n",
       "      <th>tamanho_motor</th>\n",
       "      <th>horsepower</th>\n",
       "      <th>rpm</th>\n",
       "      <th>revolucoes_milha</th>\n",
       "      <th>capacidade_tanque</th>\n",
       "      <th>passageiros</th>\n",
       "      <th>comprimento_in</th>\n",
       "      <th>distancia_eixo</th>\n",
       "      <th>largura_in</th>\n",
       "      <th>espaco_inversao_marcha_ft</th>\n",
       "      <th>tamanho_assento_traseiro_in</th>\n",
       "      <th>porta_mala_ft3</th>\n",
       "      <th>peso_lb</th>\n",
       "    </tr>\n",
       "  </thead>\n",
       "  <tbody>\n",
       "    <tr>\n",
       "      <th>count</th>\n",
       "      <td>86.000000</td>\n",
       "      <td>91.000000</td>\n",
       "      <td>88.000000</td>\n",
       "      <td>84.000000</td>\n",
       "      <td>91.000000</td>\n",
       "      <td>87.000000</td>\n",
       "      <td>91.000000</td>\n",
       "      <td>86.000000</td>\n",
       "      <td>90.000000</td>\n",
       "      <td>87.000000</td>\n",
       "      <td>85.000000</td>\n",
       "      <td>91.000000</td>\n",
       "      <td>89.000000</td>\n",
       "      <td>92.000000</td>\n",
       "      <td>87.000000</td>\n",
       "      <td>88.000000</td>\n",
       "      <td>89.000000</td>\n",
       "      <td>74.000000</td>\n",
       "      <td>86.000000</td>\n",
       "    </tr>\n",
       "    <tr>\n",
       "      <th>mean</th>\n",
       "      <td>17.118605</td>\n",
       "      <td>19.616484</td>\n",
       "      <td>21.459091</td>\n",
       "      <td>22.404762</td>\n",
       "      <td>29.065934</td>\n",
       "      <td>5.000000</td>\n",
       "      <td>2.658242</td>\n",
       "      <td>144.000000</td>\n",
       "      <td>5276.666667</td>\n",
       "      <td>2355.000000</td>\n",
       "      <td>16.683529</td>\n",
       "      <td>5.076923</td>\n",
       "      <td>182.865169</td>\n",
       "      <td>103.956522</td>\n",
       "      <td>69.448276</td>\n",
       "      <td>38.954545</td>\n",
       "      <td>27.853933</td>\n",
       "      <td>13.986486</td>\n",
       "      <td>3104.593023</td>\n",
       "    </tr>\n",
       "    <tr>\n",
       "      <th>std</th>\n",
       "      <td>8.828290</td>\n",
       "      <td>9.724280</td>\n",
       "      <td>10.696563</td>\n",
       "      <td>5.841520</td>\n",
       "      <td>5.370293</td>\n",
       "      <td>1.320676</td>\n",
       "      <td>1.045845</td>\n",
       "      <td>53.455204</td>\n",
       "      <td>605.554811</td>\n",
       "      <td>486.916616</td>\n",
       "      <td>3.375748</td>\n",
       "      <td>1.045953</td>\n",
       "      <td>14.792651</td>\n",
       "      <td>6.856317</td>\n",
       "      <td>3.778023</td>\n",
       "      <td>3.304157</td>\n",
       "      <td>3.018129</td>\n",
       "      <td>3.120824</td>\n",
       "      <td>600.129993</td>\n",
       "    </tr>\n",
       "    <tr>\n",
       "      <th>min</th>\n",
       "      <td>6.700000</td>\n",
       "      <td>7.400000</td>\n",
       "      <td>7.900000</td>\n",
       "      <td>15.000000</td>\n",
       "      <td>20.000000</td>\n",
       "      <td>3.000000</td>\n",
       "      <td>1.000000</td>\n",
       "      <td>55.000000</td>\n",
       "      <td>3800.000000</td>\n",
       "      <td>1320.000000</td>\n",
       "      <td>9.200000</td>\n",
       "      <td>2.000000</td>\n",
       "      <td>141.000000</td>\n",
       "      <td>90.000000</td>\n",
       "      <td>60.000000</td>\n",
       "      <td>32.000000</td>\n",
       "      <td>19.000000</td>\n",
       "      <td>6.000000</td>\n",
       "      <td>1695.000000</td>\n",
       "    </tr>\n",
       "    <tr>\n",
       "      <th>25%</th>\n",
       "      <td>10.825000</td>\n",
       "      <td>12.350000</td>\n",
       "      <td>14.575000</td>\n",
       "      <td>18.000000</td>\n",
       "      <td>26.000000</td>\n",
       "      <td>4.000000</td>\n",
       "      <td>1.800000</td>\n",
       "      <td>100.750000</td>\n",
       "      <td>4800.000000</td>\n",
       "      <td>2017.500000</td>\n",
       "      <td>14.500000</td>\n",
       "      <td>4.000000</td>\n",
       "      <td>174.000000</td>\n",
       "      <td>98.000000</td>\n",
       "      <td>67.000000</td>\n",
       "      <td>36.000000</td>\n",
       "      <td>26.000000</td>\n",
       "      <td>12.000000</td>\n",
       "      <td>2647.500000</td>\n",
       "    </tr>\n",
       "    <tr>\n",
       "      <th>50%</th>\n",
       "      <td>14.600000</td>\n",
       "      <td>17.700000</td>\n",
       "      <td>19.150000</td>\n",
       "      <td>21.000000</td>\n",
       "      <td>28.000000</td>\n",
       "      <td>4.000000</td>\n",
       "      <td>2.300000</td>\n",
       "      <td>140.000000</td>\n",
       "      <td>5200.000000</td>\n",
       "      <td>2360.000000</td>\n",
       "      <td>16.500000</td>\n",
       "      <td>5.000000</td>\n",
       "      <td>181.000000</td>\n",
       "      <td>103.000000</td>\n",
       "      <td>69.000000</td>\n",
       "      <td>39.000000</td>\n",
       "      <td>27.500000</td>\n",
       "      <td>14.000000</td>\n",
       "      <td>3085.000000</td>\n",
       "    </tr>\n",
       "    <tr>\n",
       "      <th>75%</th>\n",
       "      <td>20.250000</td>\n",
       "      <td>23.500000</td>\n",
       "      <td>24.825000</td>\n",
       "      <td>25.000000</td>\n",
       "      <td>31.000000</td>\n",
       "      <td>6.000000</td>\n",
       "      <td>3.250000</td>\n",
       "      <td>170.000000</td>\n",
       "      <td>5787.500000</td>\n",
       "      <td>2565.000000</td>\n",
       "      <td>19.000000</td>\n",
       "      <td>6.000000</td>\n",
       "      <td>192.000000</td>\n",
       "      <td>110.000000</td>\n",
       "      <td>72.000000</td>\n",
       "      <td>42.000000</td>\n",
       "      <td>30.000000</td>\n",
       "      <td>16.000000</td>\n",
       "      <td>3567.500000</td>\n",
       "    </tr>\n",
       "    <tr>\n",
       "      <th>max</th>\n",
       "      <td>45.400000</td>\n",
       "      <td>61.900000</td>\n",
       "      <td>80.000000</td>\n",
       "      <td>46.000000</td>\n",
       "      <td>50.000000</td>\n",
       "      <td>8.000000</td>\n",
       "      <td>5.700000</td>\n",
       "      <td>300.000000</td>\n",
       "      <td>6500.000000</td>\n",
       "      <td>3755.000000</td>\n",
       "      <td>27.000000</td>\n",
       "      <td>8.000000</td>\n",
       "      <td>219.000000</td>\n",
       "      <td>119.000000</td>\n",
       "      <td>78.000000</td>\n",
       "      <td>45.000000</td>\n",
       "      <td>36.000000</td>\n",
       "      <td>22.000000</td>\n",
       "      <td>4105.000000</td>\n",
       "    </tr>\n",
       "  </tbody>\n",
       "</table>\n",
       "</div>"
      ],
      "text/plain": [
       "       preco_min      preco  preco_max  mpg_cidade  mpg_rodovia  cilindros  \\\n",
       "count  86.000000  91.000000  88.000000   84.000000    91.000000  87.000000   \n",
       "mean   17.118605  19.616484  21.459091   22.404762    29.065934   5.000000   \n",
       "std     8.828290   9.724280  10.696563    5.841520     5.370293   1.320676   \n",
       "min     6.700000   7.400000   7.900000   15.000000    20.000000   3.000000   \n",
       "25%    10.825000  12.350000  14.575000   18.000000    26.000000   4.000000   \n",
       "50%    14.600000  17.700000  19.150000   21.000000    28.000000   4.000000   \n",
       "75%    20.250000  23.500000  24.825000   25.000000    31.000000   6.000000   \n",
       "max    45.400000  61.900000  80.000000   46.000000    50.000000   8.000000   \n",
       "\n",
       "       tamanho_motor  horsepower          rpm  revolucoes_milha  \\\n",
       "count      91.000000   86.000000    90.000000         87.000000   \n",
       "mean        2.658242  144.000000  5276.666667       2355.000000   \n",
       "std         1.045845   53.455204   605.554811        486.916616   \n",
       "min         1.000000   55.000000  3800.000000       1320.000000   \n",
       "25%         1.800000  100.750000  4800.000000       2017.500000   \n",
       "50%         2.300000  140.000000  5200.000000       2360.000000   \n",
       "75%         3.250000  170.000000  5787.500000       2565.000000   \n",
       "max         5.700000  300.000000  6500.000000       3755.000000   \n",
       "\n",
       "       capacidade_tanque  passageiros  comprimento_in  distancia_eixo  \\\n",
       "count          85.000000    91.000000       89.000000       92.000000   \n",
       "mean           16.683529     5.076923      182.865169      103.956522   \n",
       "std             3.375748     1.045953       14.792651        6.856317   \n",
       "min             9.200000     2.000000      141.000000       90.000000   \n",
       "25%            14.500000     4.000000      174.000000       98.000000   \n",
       "50%            16.500000     5.000000      181.000000      103.000000   \n",
       "75%            19.000000     6.000000      192.000000      110.000000   \n",
       "max            27.000000     8.000000      219.000000      119.000000   \n",
       "\n",
       "       largura_in  espaco_inversao_marcha_ft  tamanho_assento_traseiro_in  \\\n",
       "count   87.000000                  88.000000                    89.000000   \n",
       "mean    69.448276                  38.954545                    27.853933   \n",
       "std      3.778023                   3.304157                     3.018129   \n",
       "min     60.000000                  32.000000                    19.000000   \n",
       "25%     67.000000                  36.000000                    26.000000   \n",
       "50%     69.000000                  39.000000                    27.500000   \n",
       "75%     72.000000                  42.000000                    30.000000   \n",
       "max     78.000000                  45.000000                    36.000000   \n",
       "\n",
       "       porta_mala_ft3      peso_lb  \n",
       "count       74.000000    86.000000  \n",
       "mean        13.986486  3104.593023  \n",
       "std          3.120824   600.129993  \n",
       "min          6.000000  1695.000000  \n",
       "25%         12.000000  2647.500000  \n",
       "50%         14.000000  3085.000000  \n",
       "75%         16.000000  3567.500000  \n",
       "max         22.000000  4105.000000  "
      ]
     },
     "execution_count": 45,
     "metadata": {},
     "output_type": "execute_result"
    }
   ],
   "source": [
    "df.describe()"
   ]
  },
  {
   "cell_type": "markdown",
   "id": "50f4249e",
   "metadata": {},
   "source": [
    "### Convertendo DF para NumPy"
   ]
  },
  {
   "cell_type": "code",
   "execution_count": 48,
   "id": "29d4a5b6",
   "metadata": {},
   "outputs": [],
   "source": [
    "carros= df.to_numpy()"
   ]
  },
  {
   "cell_type": "code",
   "execution_count": 50,
   "id": "44e7fcf4",
   "metadata": {},
   "outputs": [
    {
     "name": "stdout",
     "output_type": "stream",
     "text": [
      "[['Acura' 'Integra' 'Pequeno' ... 2705.0 'Fora dos EUA' 'Acura Integra']\n",
      " [nan 'Legend' 'Médio' ... 3560.0 'Fora dos EUA' 'Acura Legend']\n",
      " ['Audi' '90' 'Compacto' ... 3375.0 'Fora dos EUA' 'Audi 90']\n",
      " ...\n",
      " ['Volkswagen' 'Corrado' 'Esportivo' ... 2810.0 'Fora dos EUA'\n",
      "  'Volkswagen Corrado']\n",
      " ['Volvo' '240' 'Compacto' ... 2985.0 'Fora dos EUA' 'Volvo 240']\n",
      " [nan '850' 'Médio' ... 3245.0 'Fora dos EUA' 'Volvo 850']]\n"
     ]
    }
   ],
   "source": [
    "print(carros)"
   ]
  },
  {
   "cell_type": "markdown",
   "id": "f0374021",
   "metadata": {},
   "source": [
    "## Convertendo DF para Lista"
   ]
  },
  {
   "cell_type": "code",
   "execution_count": 53,
   "id": "26265085",
   "metadata": {},
   "outputs": [],
   "source": [
    "lista_carros = df.values.tolist()"
   ]
  },
  {
   "cell_type": "code",
   "execution_count": 54,
   "id": "5da4d2a0",
   "metadata": {},
   "outputs": [
    {
     "name": "stdout",
     "output_type": "stream",
     "text": [
      "[['Acura', 'Integra', 'Pequeno', 12.9, 15.9, 18.8, 25.0, 31.0, 'Nenhum', 'Dianteiro', 4.0, 1.8, 140.0, 6300.0, 2890.0, 'Sim', 13.2, 5.0, 177.0, 102.0, 68.0, 37.0, 26.5, nan, 2705.0, 'Fora dos EUA', 'Acura Integra'], [nan, 'Legend', 'Médio', 29.2, 33.9, 38.7, 18.0, 25.0, 'Motorista e Passageiro', 'Dianteiro', 6.0, 3.2, 200.0, 5500.0, 2335.0, 'Sim', 18.0, 5.0, 195.0, 115.0, 71.0, 38.0, 30.0, 15.0, 3560.0, 'Fora dos EUA', 'Acura Legend'], ['Audi', '90', 'Compacto', 25.9, 29.1, 32.3, 20.0, 26.0, 'Somente Motorista', 'Dianteiro', 6.0, 2.8, 172.0, 5500.0, 2280.0, 'Sim', 16.9, 5.0, 180.0, 102.0, 67.0, 37.0, 28.0, 14.0, 3375.0, 'Fora dos EUA', 'Audi 90'], ['Audi', '100', 'Médio', nan, 37.7, 44.6, 19.0, 26.0, 'Motorista e Passageiro', nan, 6.0, nan, 172.0, 5500.0, 2535.0, nan, 21.1, 6.0, 193.0, 106.0, nan, 37.0, 31.0, 17.0, 3405.0, 'Fora dos EUA', 'Audi 100'], ['BMW', '535i', 'Médio', nan, 30.0, nan, 22.0, 30.0, nan, 'Traseiro', 4.0, 3.5, 208.0, 5700.0, 2545.0, 'Sim', 21.1, 4.0, 186.0, 109.0, 69.0, 39.0, 27.0, 13.0, 3640.0, 'Fora dos EUA', 'BMW 535i'], ['Buick', 'Century', 'Médio', 14.2, 15.7, 17.3, 22.0, 31.0, 'Somente Motorista', nan, 4.0, 2.2, 110.0, 5200.0, 2565.0, 'Não', 16.4, 6.0, 189.0, 105.0, 69.0, 41.0, 28.0, 16.0, nan, 'EUA', 'Buick Century'], ['Buick', 'LeSabre', 'Grande', 19.9, 20.8, nan, 19.0, 28.0, 'Somente Motorista', 'Dianteiro', 6.0, 3.8, 170.0, 4800.0, nan, 'Não', nan, 6.0, 200.0, 111.0, 74.0, 42.0, 30.5, 17.0, 3470.0, 'EUA', 'Buick LeSabre'], ['Buick', 'Roadmaster', 'Grande', 22.6, 23.7, 24.9, 16.0, 25.0, 'Somente Motorista', 'Traseiro', 6.0, 5.7, 180.0, 4000.0, 1320.0, 'Não', 23.0, 6.0, 216.0, 116.0, 78.0, 45.0, 30.5, 21.0, 4105.0, 'EUA', 'Buick Roadmaster'], ['Buick', 'Riviera', 'Médio', 26.3, 26.3, 26.3, 19.0, 27.0, 'Somente Motorista', 'Dianteiro', 6.0, 3.8, 170.0, 4800.0, 1690.0, 'Não', 18.8, 5.0, 198.0, 108.0, nan, 41.0, 26.5, 14.0, 3495.0, 'EUA', 'Buick Riviera'], ['Cadillac', 'DeVille', 'Grande', 33.0, 34.7, 36.3, 16.0, 25.0, 'Somente Motorista', 'Dianteiro', 8.0, 4.9, 200.0, 4100.0, nan, 'Não', 18.0, 6.0, 206.0, 114.0, 73.0, 43.0, 35.0, 18.0, 3620.0, 'EUA', 'Cadillac DeVille'], ['Cadillac', 'Seville', 'Médio', 37.5, 40.1, 42.7, 16.0, 25.0, 'Motorista e Passageiro', 'Dianteiro', 8.0, 4.6, 295.0, 6000.0, 1985.0, 'Não', 20.0, 5.0, 204.0, 111.0, 74.0, 44.0, 31.0, nan, 3935.0, 'EUA', 'Cadillac Seville'], ['Chevrolet', 'Cavalier', 'Compacto', 8.5, 13.4, 18.3, 25.0, 36.0, nan, nan, 4.0, 2.2, nan, 5200.0, 2380.0, 'Sim', 15.2, 5.0, 182.0, 101.0, 66.0, 38.0, 25.0, 13.0, 2490.0, 'EUA', 'Chevrolet Cavalier'], ['Chevrolet', 'Corsica', 'Compacto', 11.4, 11.4, 11.4, 25.0, 34.0, 'Somente Motorista', 'Dianteiro', nan, 2.2, 110.0, 5200.0, 2665.0, 'Sim', 15.6, 5.0, 184.0, 103.0, 68.0, 39.0, 26.0, nan, 2785.0, 'EUA', 'Chevrolet Corsica'], ['Chevrolet', 'Camaro', 'Esportivo', 13.4, 15.1, 16.8, 19.0, 28.0, 'Motorista e Passageiro', 'Traseiro', nan, 3.4, 160.0, 4600.0, 1805.0, 'Sim', nan, 4.0, 193.0, 101.0, 74.0, 43.0, 25.0, 13.0, 3240.0, 'EUA', 'Chevrolet Camaro'], ['Chevrolet', 'Lumina', 'Médio', 13.4, 15.9, 18.4, nan, 29.0, 'Nenhum', 'Dianteiro', 4.0, 2.2, nan, 5200.0, 2595.0, 'Não', 16.5, 6.0, nan, 108.0, 71.0, nan, 28.5, 16.0, 3195.0, 'EUA', 'Chevrolet Lumina'], ['Chevrolet', 'Lumina_APV', 'Van', 14.7, 16.3, 18.0, 18.0, 23.0, 'Nenhum', 'Dianteiro', 6.0, 3.8, 170.0, 4800.0, 1690.0, 'Não', 20.0, 7.0, 178.0, 110.0, 74.0, 44.0, 30.5, nan, 3715.0, 'EUA', 'Chevrolet Lumina_APV'], ['Chevrolet', 'Astro', 'Van', 14.7, 16.6, 18.6, 15.0, 20.0, 'Nenhum', '4WD', 6.0, 4.3, nan, 4000.0, 1790.0, 'Não', 27.0, 8.0, 194.0, 111.0, 78.0, 42.0, 33.5, nan, 4025.0, 'EUA', 'Chevrolet Astro'], ['Chevrolet', 'Caprice', 'Grande', 18.0, 18.8, 19.6, 17.0, 26.0, 'Somente Motorista', 'Traseiro', 8.0, 5.0, 170.0, 4200.0, 1350.0, 'Não', 23.0, 6.0, 214.0, 116.0, 77.0, 42.0, 29.5, 20.0, 3910.0, 'EUA', 'Chevrolet Caprice'], ['Chevrolet', 'Corvette', 'Esportivo', 34.6, 38.0, 41.5, 17.0, 25.0, 'Somente Motorista', 'Traseiro', 8.0, 5.7, 300.0, 5000.0, 1450.0, 'Sim', 20.0, 2.0, 179.0, 96.0, 74.0, 43.0, nan, nan, 3380.0, nan, 'Chevrolet Corvette'], [nan, 'Concorde', 'Grande', 18.4, 18.4, 18.4, 20.0, 28.0, 'Motorista e Passageiro', 'Dianteiro', 6.0, 3.3, 153.0, 5300.0, 1990.0, 'Não', 18.0, 6.0, 203.0, 113.0, 74.0, nan, 31.0, 15.0, 3515.0, 'EUA', 'Chrylser Concorde'], ['Chrysler', 'LeBaron', 'Compacto', 14.5, 15.8, 17.1, 23.0, 28.0, 'Motorista e Passageiro', 'Dianteiro', 4.0, 3.0, 141.0, 5000.0, 2090.0, 'Não', 16.0, 6.0, 183.0, 104.0, 68.0, 41.0, 30.5, 14.0, 3085.0, 'EUA', 'Chrysler LeBaron'], ['Chrysler', 'Imperial', 'Grande', 29.5, 29.5, 29.5, 20.0, 26.0, 'Somente Motorista', 'Dianteiro', 6.0, 3.3, 147.0, 4800.0, 1785.0, 'Não', 16.0, 6.0, 203.0, 110.0, 69.0, 44.0, 36.0, 17.0, 3570.0, 'EUA', 'Chrysler Imperial'], ['Dodge', 'Colt', 'Pequeno', 7.9, 9.2, 10.6, 29.0, 33.0, 'Nenhum', 'Dianteiro', 4.0, 1.5, 92.0, 6000.0, 3285.0, 'Sim', nan, 5.0, 174.0, 98.0, 66.0, 32.0, nan, 11.0, 2270.0, 'EUA', 'Dodge Colt'], ['Dodge', 'Shadow', 'Pequeno', 8.4, 11.3, 14.2, 23.0, 29.0, 'Somente Motorista', 'Dianteiro', 4.0, 2.2, 93.0, 4800.0, nan, 'Sim', 14.0, 5.0, 172.0, 97.0, 67.0, 38.0, 26.5, nan, 2670.0, 'EUA', 'Dodge Shadow'], ['Dodge', 'Spirit', 'Compacto', 11.9, 13.3, 14.7, 22.0, 27.0, 'Somente Motorista', 'Dianteiro', 4.0, 2.5, 100.0, 4800.0, 2535.0, 'Sim', nan, 6.0, 181.0, 104.0, 68.0, 39.0, 30.5, nan, 2970.0, 'EUA', 'Dodge Spirit'], ['Dodge', 'Caravan', 'Van', nan, 19.0, 24.4, 17.0, 21.0, 'Somente Motorista', '4WD', 6.0, 3.0, 142.0, 5000.0, 1970.0, 'Não', 20.0, 7.0, 175.0, 112.0, 72.0, 42.0, 26.5, nan, 3705.0, 'EUA', 'Dodge Caravan'], ['Dodge', 'Dynasty', 'Médio', 14.8, 15.6, 16.4, 21.0, nan, 'Somente Motorista', 'Dianteiro', nan, 2.5, 100.0, 4800.0, 2465.0, 'Não', 16.0, 6.0, 192.0, 105.0, 69.0, 42.0, 30.5, 16.0, 3080.0, 'EUA', 'Dodge Dynasty'], ['Dodge', 'Stealth', 'Esportivo', 18.5, 25.8, 33.1, nan, 24.0, 'Somente Motorista', '4WD', 6.0, 3.0, 300.0, 6000.0, 2120.0, 'Sim', 19.8, 4.0, 180.0, 97.0, nan, 40.0, 20.0, 11.0, 3805.0, 'EUA', 'Dodge Stealth'], ['Eagle', 'Summit', 'Pequeno', 7.9, 12.2, 16.5, 29.0, 33.0, 'Nenhum', 'Dianteiro', 4.0, 1.5, 92.0, 6000.0, 2505.0, 'Sim', 13.2, 5.0, 174.0, 98.0, 66.0, 36.0, 26.5, 11.0, 2295.0, 'EUA', 'Eagle Summit'], ['Eagle', 'Vision', 'Grande', nan, 19.3, 21.2, 20.0, 28.0, 'Motorista e Passageiro', 'Dianteiro', 6.0, 3.5, nan, 5800.0, 1980.0, 'Não', 18.0, 6.0, 202.0, 113.0, 74.0, 40.0, 30.0, 15.0, 3490.0, 'EUA', 'Eagle Vision'], ['Ford', 'Festiva', 'Pequeno', 6.9, 7.4, 7.9, 31.0, 33.0, nan, 'Dianteiro', 4.0, 1.3, 63.0, 5000.0, 3150.0, 'Sim', 10.0, 4.0, 141.0, 90.0, 63.0, 33.0, 26.0, 12.0, 1845.0, 'EUA', 'Ford Festiva'], ['Ford', 'Escort', 'Pequeno', 8.4, 10.1, 11.9, 23.0, 30.0, 'Nenhum', 'Dianteiro', 4.0, 1.8, 127.0, 6500.0, 2410.0, nan, 13.2, 5.0, 171.0, 98.0, 67.0, 36.0, 28.0, 12.0, 2530.0, 'EUA', 'Ford Escort'], ['Ford', 'Tempo', 'Compacto', 10.4, 11.3, 12.2, 22.0, 27.0, 'Nenhum', 'Dianteiro', 4.0, 2.3, 96.0, 4200.0, 2805.0, 'Sim', 15.9, 5.0, 177.0, 100.0, 68.0, nan, 27.5, 13.0, nan, 'EUA', nan], ['Ford', 'Mustang', 'Esportivo', 10.8, 15.9, 21.0, 22.0, 29.0, 'Somente Motorista', 'Traseiro', 4.0, 2.3, 105.0, 4600.0, 2285.0, 'Sim', 15.4, 4.0, 180.0, 101.0, 68.0, 40.0, 24.0, 12.0, nan, 'EUA', 'Ford Mustang'], ['Ford', 'Probe', 'Esportivo', 12.8, 14.0, 15.2, nan, 30.0, 'Somente Motorista', 'Dianteiro', 4.0, 2.0, 115.0, 5500.0, 2340.0, 'Sim', 15.5, 4.0, 179.0, 103.0, 70.0, 38.0, 23.0, 18.0, 2710.0, 'EUA', 'Ford Probe'], ['Ford', 'Aerostar', 'Van', 14.5, 19.9, 25.3, 15.0, 20.0, 'Somente Motorista', '4WD', 6.0, 3.0, 145.0, 4800.0, 2080.0, 'Sim', 21.0, 7.0, 176.0, 119.0, 72.0, 45.0, 30.0, nan, 3735.0, 'EUA', 'Ford Aerostar'], ['Ford', 'Taurus', 'Médio', 15.6, 20.2, 24.8, 21.0, 30.0, 'Somente Motorista', 'Dianteiro', 6.0, 3.0, nan, 4800.0, 1885.0, 'Não', nan, 5.0, 192.0, 106.0, 71.0, 40.0, 27.5, 18.0, 3325.0, 'EUA', 'Ford Taurus'], ['Ford', 'Crown_Victoria', 'Grande', 20.1, 20.9, 21.7, 18.0, 26.0, 'Somente Motorista', 'Traseiro', 8.0, 4.6, 190.0, 4200.0, nan, 'Não', 20.0, 6.0, 212.0, 114.0, 78.0, 43.0, 30.0, 21.0, 3950.0, 'EUA', 'Ford Crown_Victoria'], ['Geo', 'Metro', 'Pequeno', 6.7, 8.4, 10.0, 46.0, 50.0, 'Nenhum', 'Dianteiro', 3.0, 1.0, 55.0, 5700.0, 3755.0, nan, 10.6, 4.0, 151.0, 93.0, 63.0, 34.0, 27.5, 10.0, 1695.0, 'Fora dos EUA', 'Geo Metro'], ['Geo', 'Storm', 'Esportivo', 11.5, 12.5, 13.5, 30.0, 36.0, 'Somente Motorista', 'Dianteiro', 4.0, 1.6, 90.0, 5400.0, 3250.0, 'Sim', 12.4, 4.0, 164.0, 97.0, nan, 37.0, 24.5, 11.0, 2475.0, 'Fora dos EUA', 'Geo Storm'], ['Honda', 'Prelude', 'Esportivo', 17.0, 19.8, 22.7, 24.0, 31.0, 'Motorista e Passageiro', 'Dianteiro', 4.0, 2.3, 160.0, 5800.0, 2855.0, 'Sim', nan, 4.0, 175.0, 100.0, 70.0, 39.0, 23.5, 8.0, 2865.0, 'Fora dos EUA', 'Honda Prelude'], ['Honda', 'Civic', 'Pequeno', 8.4, 12.1, 15.8, 42.0, 46.0, 'Somente Motorista', 'Dianteiro', 4.0, 1.5, nan, 5900.0, 2650.0, 'Sim', 11.9, 4.0, 173.0, nan, 67.0, 36.0, 28.0, 12.0, nan, 'Fora dos EUA', 'Honda Civic'], ['Honda', 'Accord', 'Compacto', 13.8, 17.5, 21.2, 24.0, 31.0, 'Motorista e Passageiro', 'Dianteiro', 4.0, 2.2, 140.0, 5600.0, nan, 'Sim', 17.0, 4.0, 185.0, 107.0, 67.0, 41.0, 28.0, 14.0, 3040.0, 'Fora dos EUA', 'Honda Accord'], ['Hyundai', 'Excel', 'Pequeno', 6.8, 8.0, 9.2, 29.0, 33.0, 'Nenhum', 'Dianteiro', 4.0, 1.5, 81.0, 5500.0, 2710.0, 'Sim', 11.9, 5.0, 168.0, 94.0, 63.0, 35.0, 26.0, 11.0, 2345.0, 'Fora dos EUA', 'Hyundai Excel'], ['Hyundai', 'Elantra', 'Pequeno', 9.0, 10.0, 11.0, nan, 29.0, 'Nenhum', 'Dianteiro', 4.0, 1.8, 124.0, 6000.0, 2745.0, 'Sim', 13.7, 5.0, 172.0, 98.0, 66.0, 36.0, 28.0, 12.0, 2620.0, 'Fora dos EUA', 'Hyundai Elantra'], ['Hyundai', 'Scoupe', nan, 9.1, 10.0, 11.0, 26.0, 34.0, 'Nenhum', 'Dianteiro', 4.0, 1.5, 92.0, 5550.0, 2540.0, 'Sim', 11.9, 4.0, 166.0, 94.0, 64.0, 34.0, 23.5, 9.0, 2285.0, 'Fora dos EUA', nan], ['Hyundai', 'Sonata', 'Médio', 12.4, 13.9, 15.3, 20.0, 27.0, 'Nenhum', 'Dianteiro', 4.0, 2.0, 128.0, 6000.0, 2335.0, 'Sim', 17.2, 5.0, 184.0, 104.0, 69.0, 41.0, 31.0, nan, 2885.0, nan, 'Hyundai Sonata'], ['Infiniti', 'Q45', 'Médio', 45.4, 47.9, nan, 17.0, 22.0, nan, 'Traseiro', 8.0, 4.5, 278.0, 6000.0, 1955.0, 'Não', 22.5, 5.0, 200.0, 113.0, 72.0, 42.0, 29.0, 15.0, 4000.0, 'Fora dos EUA', 'Infiniti Q45'], ['Lexus', 'ES300', 'Médio', 27.5, 28.0, 28.4, 18.0, 24.0, 'Somente Motorista', 'Dianteiro', 6.0, 3.0, 185.0, nan, 2325.0, 'Sim', 18.5, 5.0, 188.0, 103.0, 70.0, 40.0, 27.5, 14.0, 3510.0, 'Fora dos EUA', 'Lexus ES300'], [nan, 'SC300', 'Médio', 34.7, 35.2, 35.6, 18.0, 23.0, 'Motorista e Passageiro', 'Traseiro', 6.0, 3.0, 225.0, 6000.0, 2510.0, 'Sim', nan, 4.0, 191.0, 106.0, 71.0, 39.0, 25.0, 9.0, 3515.0, 'Fora dos EUA', 'Lexus SC300'], ['Lincoln', 'Continental', 'Médio', 33.3, 34.3, 35.3, 17.0, 26.0, 'Motorista e Passageiro', nan, 6.0, 3.8, 160.0, 4400.0, 1835.0, 'Não', 18.4, 6.0, 205.0, 109.0, 73.0, 42.0, 30.0, 19.0, 3695.0, 'EUA', 'Lincoln Continental'], ['Lincoln', 'Town_Car', 'Grande', 34.4, 36.1, 37.8, 18.0, 26.0, 'Motorista e Passageiro', 'Traseiro', 8.0, 4.6, 210.0, 4600.0, 1840.0, 'Não', 20.0, nan, 219.0, 117.0, 77.0, 45.0, 31.5, 22.0, 4055.0, 'EUA', 'Lincoln Town_Car'], ['Mazda', '323', 'Pequeno', 7.4, 8.3, 9.1, 29.0, 37.0, 'Nenhum', 'Dianteiro', 4.0, 1.6, 82.0, 5000.0, 2370.0, 'Sim', 13.2, 4.0, 164.0, 97.0, 66.0, 34.0, 27.0, 16.0, 2325.0, 'Fora dos EUA', 'Mazda 323'], ['Mazda', 'Protege', 'Pequeno', 10.9, 11.6, 12.3, 28.0, 36.0, 'Nenhum', 'Dianteiro', 4.0, 1.8, 103.0, 5500.0, 2220.0, 'Sim', 14.5, 5.0, 172.0, 98.0, 66.0, 36.0, 26.5, 13.0, 2440.0, 'Fora dos EUA', 'Mazda Protege'], ['Mazda', '626', 'Compacto', 14.3, 16.5, 18.7, 26.0, 34.0, 'Somente Motorista', 'Dianteiro', 4.0, 2.5, 164.0, 5600.0, 2505.0, 'Sim', 15.5, 5.0, 184.0, 103.0, 69.0, 40.0, 29.5, 14.0, 2970.0, 'Fora dos EUA', 'Mazda 626'], ['Mazda', 'MPV', 'Van', 16.6, 19.1, 21.7, 18.0, 24.0, 'Nenhum', '4WD', 6.0, 3.0, 155.0, 5000.0, 2240.0, 'Não', 19.6, 7.0, 190.0, 110.0, 72.0, 39.0, 27.5, nan, 3735.0, 'Fora dos EUA', 'Mazda MPV'], ['Mazda', 'RX-7', 'Esportivo', 32.5, 32.5, 32.5, 17.0, 25.0, 'Somente Motorista', nan, nan, 1.3, 255.0, 6500.0, 2325.0, 'Sim', 20.0, 2.0, 169.0, 96.0, 69.0, nan, nan, nan, nan, 'Fora dos EUA', 'Mazda RX-7'], ['Mercedes-Benz', '190E', 'Compacto', 29.0, 31.9, 34.9, nan, 29.0, 'Somente Motorista', 'Traseiro', 4.0, 2.3, 130.0, 5100.0, 2425.0, 'Sim', 14.5, 5.0, 175.0, 105.0, 67.0, 34.0, 26.0, 12.0, 2920.0, nan, 'Mercedes-Benz 190E'], ['Mercedes-Benz', '300E', 'Médio', 43.8, 61.9, 80.0, 19.0, 25.0, 'Motorista e Passageiro', 'Traseiro', 6.0, 3.2, 217.0, 5500.0, 2220.0, 'Não', 18.5, 5.0, nan, 110.0, 69.0, 37.0, nan, 15.0, 3525.0, 'Fora dos EUA', 'Mercedes-Benz 300E'], ['Mercury', nan, 'Esportivo', 13.3, 14.1, 15.0, 23.0, 26.0, 'Somente Motorista', 'Dianteiro', 4.0, 1.6, 100.0, 5750.0, 2475.0, 'Sim', 11.1, 4.0, 166.0, 95.0, 65.0, 36.0, 19.0, 6.0, 2450.0, 'EUA', 'Mercury Capri'], ['Mercury', 'Cougar', 'Médio', 14.9, 14.9, 14.9, 19.0, 26.0, 'Nenhum', 'Traseiro', 6.0, 3.8, 140.0, 3800.0, 1730.0, 'Não', 18.0, 5.0, 199.0, 113.0, 73.0, 38.0, 28.0, 15.0, 3610.0, 'EUA', 'Mercury Cougar'], ['Mitsubishi', 'Mirage', 'Pequeno', 7.7, 10.3, 12.9, 29.0, nan, 'Nenhum', 'Dianteiro', 4.0, 1.5, 92.0, 6000.0, 2505.0, 'Sim', 13.2, 5.0, 172.0, 98.0, 67.0, 36.0, 26.0, 11.0, 2295.0, 'Fora dos EUA', 'Mitsubishi Mirage'], ['Mitsubishi', 'Diamante', 'Médio', 22.4, 26.1, nan, 18.0, 24.0, 'Somente Motorista', 'Dianteiro', 6.0, 3.0, 202.0, 6000.0, 2210.0, 'Não', 19.0, 5.0, 190.0, 107.0, 70.0, 43.0, 27.5, 14.0, 3730.0, 'Fora dos EUA', 'Mitsubishi Diamante'], ['Nissan', 'Sentra', 'Pequeno', 8.7, 11.8, 14.9, 29.0, 33.0, 'Somente Motorista', 'Dianteiro', nan, 1.6, 110.0, 6000.0, 2435.0, 'Sim', 13.2, 5.0, 170.0, 96.0, 66.0, 33.0, 26.0, nan, nan, 'Fora dos EUA', 'Nissan Sentra'], ['Nissan', 'Altima', 'Compacto', 13.0, 15.7, 18.3, 24.0, 30.0, 'Somente Motorista', 'Dianteiro', 4.0, 2.4, 150.0, 5600.0, 2130.0, 'Sim', 15.9, 5.0, 181.0, 103.0, 67.0, 40.0, 28.5, 14.0, 3050.0, 'Fora dos EUA', 'Nissan Altima'], ['Nissan', 'Quest', 'Van', 16.7, 19.1, 21.5, 17.0, 23.0, 'Nenhum', 'Dianteiro', 6.0, 3.0, nan, 4800.0, 2065.0, 'Não', 20.0, 7.0, 190.0, 112.0, 74.0, 41.0, 27.0, nan, 4100.0, 'Fora dos EUA', 'Nissan Quest'], ['Nissan', 'Maxima', 'Médio', 21.0, 21.5, 22.0, 21.0, 26.0, 'Somente Motorista', 'Dianteiro', 6.0, 3.0, 160.0, 5200.0, 2045.0, nan, 18.5, 5.0, 188.0, 104.0, 69.0, 41.0, 28.5, 14.0, 3200.0, 'Fora dos EUA', 'Nissan Maxima'], ['Oldsmobile', 'Achieva', 'Compacto', 13.0, 13.5, 14.0, 24.0, 31.0, 'Nenhum', 'Dianteiro', 4.0, 2.3, 155.0, 6000.0, 2380.0, 'Não', 15.2, 5.0, 188.0, 103.0, 67.0, 39.0, 28.0, 14.0, 2910.0, 'EUA', 'Oldsmobile Achieva'], ['Oldsmobile', 'Cutlass_Ciera', 'Médio', 14.2, 16.3, 18.4, 23.0, 31.0, 'Somente Motorista', 'Dianteiro', 4.0, 2.2, 110.0, 5200.0, 2565.0, 'Não', nan, 5.0, 190.0, 105.0, 70.0, 42.0, 28.0, 16.0, 2890.0, 'EUA', 'Oldsmobile Cutlass_Ciera'], ['Oldsmobile', 'Silhouette', 'Van', 19.5, 19.5, 19.5, 18.0, 23.0, 'Nenhum', 'Dianteiro', 6.0, 3.8, 170.0, 4800.0, 1690.0, 'Não', 20.0, 7.0, nan, 110.0, 74.0, 44.0, 30.5, nan, 3715.0, 'EUA', 'Oldsmobile Silhouette'], ['Oldsmobile', 'Eighty-Eight', 'Grande', 19.5, 20.7, 21.9, nan, 28.0, 'Somente Motorista', 'Dianteiro', 6.0, 3.8, 170.0, 4800.0, 1570.0, 'Não', 18.0, 6.0, 201.0, 111.0, 74.0, 42.0, 31.5, 17.0, 3470.0, 'EUA', 'Oldsmobile Eighty-Eight'], ['Plymouth', 'Laser', 'Esportivo', 11.4, 14.4, 17.4, nan, 30.0, 'Nenhum', '4WD', 4.0, 1.8, 92.0, 5000.0, 2360.0, 'Sim', 15.9, 4.0, 173.0, 97.0, 67.0, 39.0, 24.5, 8.0, 2640.0, nan, 'Plymouth Laser'], ['Pontiac', 'LeMans', 'Pequeno', nan, 9.0, 9.9, 31.0, 41.0, 'Nenhum', 'Dianteiro', 4.0, 1.6, 74.0, 5600.0, 3130.0, 'Sim', 13.2, 4.0, 177.0, 99.0, 66.0, 35.0, 25.5, 17.0, 2350.0, 'EUA', 'Pontiac LeMans'], ['Pontiac', 'Sunbird', 'Compacto', 9.4, 11.1, 12.8, nan, 31.0, 'Nenhum', nan, 4.0, 2.0, 110.0, 5200.0, 2665.0, 'Sim', 15.2, 5.0, 181.0, 101.0, 66.0, 39.0, 25.0, 13.0, nan, 'EUA', nan], ['Pontiac', 'Firebird', nan, 14.0, 17.7, 21.4, 19.0, 28.0, 'Motorista e Passageiro', 'Traseiro', 6.0, nan, 160.0, 4600.0, 1805.0, 'Sim', 15.5, 4.0, 196.0, 101.0, 75.0, 43.0, 25.0, 13.0, 3240.0, 'EUA', 'Pontiac Firebird'], ['Pontiac', 'Grand_Prix', 'Médio', 15.4, 18.5, 21.6, 19.0, 27.0, 'Nenhum', 'Dianteiro', 6.0, 3.4, 200.0, 5000.0, 1890.0, 'Sim', 16.5, 5.0, 195.0, 108.0, 72.0, 41.0, 28.5, 16.0, 3450.0, 'EUA', 'Pontiac Grand_Prix'], ['Pontiac', 'Bonneville', 'Grande', 19.4, 24.4, 29.4, 19.0, 28.0, 'Motorista e Passageiro', 'Dianteiro', 6.0, 3.8, 170.0, 4800.0, 1565.0, 'Não', 18.0, 6.0, 177.0, 111.0, 74.0, 43.0, 30.5, 18.0, 3495.0, 'EUA', 'Pontiac Bonneville'], ['Saab', '900', 'Compacto', 20.3, 28.7, 37.1, 20.0, 26.0, nan, 'Dianteiro', 4.0, 2.1, 140.0, 6000.0, 2910.0, 'Sim', 18.0, 5.0, nan, 99.0, 67.0, 37.0, 26.5, 14.0, 2775.0, 'Fora dos EUA', 'Saab 900'], ['Saturn', 'SL', 'Pequeno', 9.2, nan, 12.9, nan, 38.0, 'Somente Motorista', 'Dianteiro', 4.0, 1.9, 85.0, 5000.0, 2145.0, 'Sim', 12.8, 5.0, 176.0, 102.0, 68.0, 40.0, 26.5, nan, 2495.0, 'EUA', 'Saturn SL'], ['Subaru', 'Justy', 'Pequeno', 7.3, 8.4, 9.5, 33.0, 37.0, 'Nenhum', '4WD', 3.0, 1.2, 73.0, 5600.0, 2875.0, 'Sim', 9.2, 4.0, 146.0, 90.0, 60.0, 32.0, 23.5, 10.0, 2045.0, 'Fora dos EUA', 'Subaru Justy'], ['Subaru', 'Loyale', 'Pequeno', 10.5, 10.9, 11.3, 25.0, 30.0, 'Nenhum', '4WD', 4.0, 1.8, 90.0, 5200.0, 3375.0, 'Sim', 15.9, 5.0, 175.0, 97.0, 65.0, 35.0, 27.5, 15.0, 2490.0, 'Fora dos EUA', 'Subaru Loyale'], ['Subaru', 'Legacy', 'Compacto', 16.3, 19.5, 22.7, 23.0, 30.0, 'Somente Motorista', '4WD', 4.0, 2.2, 130.0, nan, 2330.0, 'Sim', 15.9, 5.0, 179.0, 102.0, 67.0, 37.0, 27.0, 14.0, 3085.0, 'Fora dos EUA', 'Subaru Legacy'], ['Suzuki', 'Swift', nan, 7.3, 8.6, nan, 39.0, 43.0, 'Nenhum', 'Dianteiro', 3.0, 1.3, 70.0, 6000.0, 3360.0, 'Sim', 10.6, 4.0, 161.0, 93.0, nan, 34.0, 27.5, 10.0, 1965.0, 'Fora dos EUA', 'Suzuki Swift'], ['Toyota', 'Tercel', 'Pequeno', nan, 9.8, 11.8, 32.0, 37.0, 'Somente Motorista', 'Dianteiro', 4.0, 1.5, 82.0, 5200.0, 3505.0, 'Sim', 11.9, nan, 162.0, 94.0, nan, 36.0, 24.0, 11.0, 2055.0, 'Fora dos EUA', 'Toyota Tercel'], ['Toyota', 'Celica', 'Esportivo', 14.2, 18.4, 22.6, 25.0, 32.0, nan, 'Dianteiro', 4.0, 2.2, 135.0, nan, 2405.0, 'Sim', 15.9, 4.0, 174.0, 99.0, 69.0, nan, 23.0, 13.0, 2950.0, 'Fora dos EUA', 'Toyota Celica'], ['Toyota', 'Camry', 'Médio', 15.2, nan, 21.2, 22.0, 29.0, 'Somente Motorista', nan, 4.0, 2.2, 130.0, 5400.0, 2340.0, nan, 18.5, 5.0, 188.0, 103.0, 70.0, 38.0, 28.5, 15.0, 3030.0, 'Fora dos EUA', 'Toyota Camry'], ['Toyota', 'Previa', 'Van', nan, 22.7, 26.6, 18.0, 22.0, 'Somente Motorista', '4WD', 4.0, 2.4, 138.0, 5000.0, 2515.0, 'Sim', 19.8, 7.0, 187.0, 113.0, 71.0, 41.0, 35.0, nan, 3785.0, 'Fora dos EUA', 'Toyota Previa'], ['Volkswagen', 'Fox', 'Pequeno', 8.7, 9.1, 9.5, 25.0, 33.0, 'Nenhum', 'Dianteiro', 4.0, 1.8, 81.0, 5500.0, 2550.0, 'Sim', 12.4, 4.0, 163.0, 93.0, 63.0, 34.0, 26.0, 10.0, 2240.0, 'Fora dos EUA', 'Volkswagen Fox'], ['Volkswagen', 'Eurovan', 'Van', 16.6, 19.7, 22.7, 17.0, 21.0, 'Nenhum', 'Dianteiro', 5.0, 2.5, 109.0, 4500.0, 2915.0, 'Sim', 21.1, 7.0, 187.0, 115.0, 72.0, 38.0, 34.0, nan, 3960.0, nan, 'Volkswagen Eurovan'], ['Volkswagen', 'Passat', 'Compacto', 17.6, 20.0, 22.4, 21.0, 30.0, 'Nenhum', 'Dianteiro', 4.0, 2.0, 134.0, 5800.0, 2685.0, 'Sim', 18.5, 5.0, 180.0, 103.0, 67.0, 35.0, 31.5, 14.0, 2985.0, 'Fora dos EUA', 'Volkswagen Passat'], ['Volkswagen', 'Corrado', 'Esportivo', 22.9, 23.3, 23.7, 18.0, 25.0, 'Nenhum', 'Dianteiro', 6.0, 2.8, 178.0, 5800.0, 2385.0, 'Sim', 18.5, 4.0, 159.0, 97.0, 66.0, 36.0, 26.0, 15.0, 2810.0, 'Fora dos EUA', 'Volkswagen Corrado'], ['Volvo', '240', 'Compacto', 21.8, 22.7, 23.5, 21.0, 28.0, 'Somente Motorista', 'Traseiro', nan, 2.3, 114.0, 5400.0, 2215.0, 'Sim', 15.8, 5.0, 190.0, 104.0, 67.0, 37.0, 29.5, 14.0, 2985.0, 'Fora dos EUA', 'Volvo 240'], [nan, '850', 'Médio', 24.8, 26.7, 28.5, 20.0, 28.0, 'Motorista e Passageiro', 'Dianteiro', 5.0, 2.4, 168.0, 6200.0, nan, 'Sim', 19.3, 5.0, 184.0, 105.0, 69.0, 38.0, 30.0, 15.0, 3245.0, 'Fora dos EUA', 'Volvo 850']]\n"
     ]
    }
   ],
   "source": [
    "print(lista_carros)"
   ]
  },
  {
   "cell_type": "code",
   "execution_count": null,
   "id": "c592ca56",
   "metadata": {},
   "outputs": [],
   "source": []
  }
 ],
 "metadata": {
  "kernelspec": {
   "display_name": "Python 3",
   "language": "python",
   "name": "python3"
  },
  "language_info": {
   "codemirror_mode": {
    "name": "ipython",
    "version": 3
   },
   "file_extension": ".py",
   "mimetype": "text/x-python",
   "name": "python",
   "nbconvert_exporter": "python",
   "pygments_lexer": "ipython3",
   "version": "3.8.8"
  }
 },
 "nbformat": 4,
 "nbformat_minor": 5
}
